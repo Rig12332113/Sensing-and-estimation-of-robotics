{
 "cells": [
  {
   "cell_type": "code",
   "execution_count": 1,
   "metadata": {},
   "outputs": [
    {
     "name": "stdout",
     "output_type": "stream",
     "text": [
      "(11690, 3)\n",
      "2025-02-16 14:20:01.692 Python[16396:1054595] +[IMKClient subclass]: chose IMKClient_Legacy\n",
      "2025-02-16 14:20:01.692 Python[16396:1054595] +[IMKInputSession subclass]: chose IMKInputSession_Legacy\n",
      "(11824, 3)\n",
      "(8569, 3)\n",
      "(5032, 3)\n"
     ]
    }
   ],
   "source": [
    "! python3 ./test_icp.py"
   ]
  },
  {
   "cell_type": "code",
   "execution_count": 1,
   "metadata": {},
   "outputs": [
    {
     "name": "stdout",
     "output_type": "stream",
     "text": [
      "iter: 0, dist = 24245.73628370118\n",
      "iter: 1, dist = 1765.7812370194565\n",
      "iter: 2, dist = 1717.303290170807\n",
      "iter: 3, dist = 1684.8245423854728\n",
      "iter: 4, dist = 1657.9172332600617\n",
      "iter: 5, dist = 1631.1356826457363\n",
      "iter: 6, dist = 1604.7284607704798\n",
      "iter: 7, dist = 1579.3045292159948\n",
      "iter: 8, dist = 1556.492576854424\n",
      "iter: 9, dist = 1536.5916682790203\n",
      "iter: 10, dist = 1520.177026633927\n",
      "iter: 11, dist = 1507.1884924353953\n",
      "iter: 12, dist = 1497.430958162264\n",
      "iter: 13, dist = 1490.715109764071\n",
      "iter: 14, dist = 1486.2199357060672\n",
      "iter: 15, dist = 1483.1379185080962\n",
      "iter: 16, dist = 1481.0450506485604\n",
      "iter: 17, dist = 1479.5725435332456\n",
      "iter: 18, dist = 1478.510620965791\n",
      "iter: 19, dist = 1477.8875040210826\n",
      "[[ 0.41145474  0.83239535 -0.37124518  0.5701403 ]\n",
      " [-0.90513041  0.42098614 -0.05924196 -0.03810166]\n",
      " [ 0.10697634  0.36040068  0.92664309 -0.0290082 ]\n",
      " [ 0.          0.          0.          1.        ]]\n"
     ]
    },
    {
     "name": "stderr",
     "output_type": "stream",
     "text": [
      "2025-02-16 16:51:12.259 Python[18307:1181836] +[IMKClient subclass]: chose IMKClient_Legacy\n",
      "2025-02-16 16:51:12.259 Python[18307:1181836] +[IMKInputSession subclass]: chose IMKInputSession_Legacy\n"
     ]
    }
   ],
   "source": [
    "import numpy as np\n",
    "import sys\n",
    "np.set_printoptions(threshold=sys.maxsize)\n",
    "from scipy.spatial import cKDTree\n",
    "from utils import read_canonical_model, load_pc, visualize_icp_result\n",
    "\n",
    "def rotationZ(angle):\n",
    "    return np.array([[np.cos(angle), -np.sin(angle), 0],\n",
    "                     [np.sin(angle), np.cos(angle), 0],\n",
    "                     [0, 0, 1]])\n",
    "\n",
    "def remap(target, target_prox):\n",
    "    mapping = np.arange(target_prox.shape[0])\n",
    "    # build KD tree for quicker search\n",
    "    target_KDtree = cKDTree(target)\n",
    "    for i in range(target_prox.shape[0]):\n",
    "        _, mapping[i] = target_KDtree.query(target_prox[i])\n",
    "\n",
    "    return mapping\n",
    "\n",
    "def ICP(source, target, iters):\n",
    "    mean_source = np.mean(source, axis=0)\n",
    "    delta_source = source - mean_source\n",
    "    mean_target = np.mean(target, axis=0)\n",
    "    delta_target = target - mean_target\n",
    "    # try to initialize different rotation matrix\n",
    "    rotation_matrix = rotationZ(0)\n",
    "    p = np.zeros(3)\n",
    "\n",
    "    for iter in range(iters):\n",
    "        # map to closest point\n",
    "        target_prox = (rotation_matrix.T @ (source - p).T).T\n",
    "        mapping = remap(target, target_prox)\n",
    "\n",
    "        # calculate dist of point cloud\n",
    "        dist = 0\n",
    "        for i in range(source.shape[0]):\n",
    "            dist = dist + np.linalg.norm(target[mapping[i]] - target_prox[i])\n",
    "        print(f\"iter: {iter}, dist = {dist}\")\n",
    "\n",
    "        # iterate next rotation matrix and p\n",
    "        Q = np.zeros((3,3))\n",
    "        for j in range(source.shape[0]):\n",
    "            Q = Q + delta_source[j].reshape((3, 1)) @ delta_target[mapping[j]].reshape((1, 3))\n",
    "        U, _, V = np.linalg.svd(Q)\n",
    "        rotation_matrix = U @ V\n",
    "        if np.linalg.det(rotation_matrix) < 0.0:\n",
    "            V[-1, :] *= -1\n",
    "            rotation_matrix = U @ V\n",
    "        p = mean_source - (rotation_matrix @ mean_target)\n",
    "\n",
    "    pose = np.eye(4)\n",
    "    pose[:3,:3] = rotation_matrix.T\n",
    "    pose[:3, -1] = -(rotation_matrix.T @ p)\n",
    "    return pose\n",
    "\n",
    "obj_name = 'drill' # drill or liq_container\n",
    "# num_pc = 4 # number of point clouds\n",
    "num_pc = 1 # number of point clouds\n",
    "\n",
    "source_pc = read_canonical_model(obj_name)\n",
    "                    \n",
    "for i in range(num_pc):\n",
    "    # estimated_pose, you need to estimate the pose with ICP\n",
    "    target_pc = load_pc(obj_name, i)\n",
    "    pose = ICP(source_pc, target_pc, 20)\n",
    "    print(pose)\n",
    "\n",
    "# visualize the estimated result\n",
    "visualize_icp_result(source_pc, target_pc, pose)\n",
    "\n"
   ]
  }
 ],
 "metadata": {
  "kernelspec": {
   "display_name": "Python 3",
   "language": "python",
   "name": "python3"
  },
  "language_info": {
   "codemirror_mode": {
    "name": "ipython",
    "version": 3
   },
   "file_extension": ".py",
   "mimetype": "text/x-python",
   "name": "python",
   "nbconvert_exporter": "python",
   "pygments_lexer": "ipython3",
   "version": "3.11.3"
  }
 },
 "nbformat": 4,
 "nbformat_minor": 2
}
